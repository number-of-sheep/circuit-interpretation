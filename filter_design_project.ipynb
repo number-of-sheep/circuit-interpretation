{
  "nbformat": 4,
  "nbformat_minor": 0,
  "metadata": {
    "colab": {
      "name": "filter design project.ipynb",
      "provenance": [],
      "authorship_tag": "ABX9TyOQYy1zTtTG9qsPTLRCmEUu",
      "include_colab_link": true
    },
    "kernelspec": {
      "name": "python3",
      "display_name": "Python 3"
    },
    "language_info": {
      "name": "python"
    }
  },
  "cells": [
    {
      "cell_type": "markdown",
      "metadata": {
        "id": "view-in-github",
        "colab_type": "text"
      },
      "source": [
        "<a href=\"https://colab.research.google.com/github/number-of-sheep/circuit-interpretation/blob/main/filter_design_project.ipynb\" target=\"_parent\"><img src=\"https://colab.research.google.com/assets/colab-badge.svg\" alt=\"Open In Colab\"/></a>"
      ]
    },
    {
      "cell_type": "markdown",
      "source": [
        "# Basic Theory\n",
        "2022.08.04. 기본 개념 스터디에서 배운 내용 활용한 코드 써보기"
      ],
      "metadata": {
        "id": "t2h91XMON-jR"
      }
    },
    {
      "cell_type": "markdown",
      "source": [
        "LTspice를 활용해 RC회로, RL회로, RLC회로를 다 만들어 보자."
      ],
      "metadata": {
        "id": "b8tN3AACk8uC"
      }
    },
    {
      "cell_type": "code",
      "execution_count": null,
      "metadata": {
        "id": "t80dUE35N4B_"
      },
      "outputs": [],
      "source": [
        ""
      ]
    }
  ]
}