{
  "cells": [
    {
      "cell_type": "markdown",
      "metadata": {},
      "source": [
        "### Transistor Interpretation"
      ]
    },
    {
      "cell_type": "markdown",
      "metadata": {
        "id": "XSqneXzXfqX_"
      },
      "source": [
        "node 1 : 3.3 voltage supply\n",
        "\n",
        "node 2 : collector voltage\n",
        "\n",
        "node 3 : drive boltage\n",
        "\n",
        "node 4 : base voltage"
      ]
    },
    {
      "cell_type": "code",
      "execution_count": 1,
      "metadata": {
        "id": "nDpNljDvfDeY"
      },
      "outputs": [],
      "source": [
        "import numpy as np\n",
        "import pandas as pd\n",
        "import matplotlib.pyplot as plt"
      ]
    },
    {
      "cell_type": "code",
      "execution_count": 3,
      "metadata": {
        "id": "cCgWYHKPfgba"
      },
      "outputs": [],
      "source": [
        "df = pd.read_csv('transistor.txt', delimiter='\\t')"
      ]
    },
    {
      "cell_type": "code",
      "execution_count": 4,
      "metadata": {
        "colab": {
          "base_uri": "https://localhost:8080/",
          "height": 206
        },
        "id": "TS_dYSG3gwxR",
        "outputId": "933459c3-3104-4e80-889e-2f244f7bc5e2"
      },
      "outputs": [
        {
          "data": {
            "text/html": [
              "<div>\n",
              "<style scoped>\n",
              "    .dataframe tbody tr th:only-of-type {\n",
              "        vertical-align: middle;\n",
              "    }\n",
              "\n",
              "    .dataframe tbody tr th {\n",
              "        vertical-align: top;\n",
              "    }\n",
              "\n",
              "    .dataframe thead th {\n",
              "        text-align: right;\n",
              "    }\n",
              "</style>\n",
              "<table border=\"1\" class=\"dataframe\">\n",
              "  <thead>\n",
              "    <tr style=\"text-align: right;\">\n",
              "      <th></th>\n",
              "      <th>v1</th>\n",
              "      <th>V(n001)</th>\n",
              "      <th>V(n002)</th>\n",
              "      <th>V(n003)</th>\n",
              "      <th>V(n004)</th>\n",
              "    </tr>\n",
              "  </thead>\n",
              "  <tbody>\n",
              "    <tr>\n",
              "      <th>0</th>\n",
              "      <td>0.00</td>\n",
              "      <td>3.3</td>\n",
              "      <td>3.3</td>\n",
              "      <td>0.00</td>\n",
              "      <td>1.651250e-07</td>\n",
              "    </tr>\n",
              "    <tr>\n",
              "      <th>1</th>\n",
              "      <td>0.01</td>\n",
              "      <td>3.3</td>\n",
              "      <td>3.3</td>\n",
              "      <td>0.01</td>\n",
              "      <td>1.000016e-02</td>\n",
              "    </tr>\n",
              "    <tr>\n",
              "      <th>2</th>\n",
              "      <td>0.02</td>\n",
              "      <td>3.3</td>\n",
              "      <td>3.3</td>\n",
              "      <td>0.02</td>\n",
              "      <td>2.000016e-02</td>\n",
              "    </tr>\n",
              "    <tr>\n",
              "      <th>3</th>\n",
              "      <td>0.03</td>\n",
              "      <td>3.3</td>\n",
              "      <td>3.3</td>\n",
              "      <td>0.03</td>\n",
              "      <td>3.000016e-02</td>\n",
              "    </tr>\n",
              "    <tr>\n",
              "      <th>4</th>\n",
              "      <td>0.04</td>\n",
              "      <td>3.3</td>\n",
              "      <td>3.3</td>\n",
              "      <td>0.04</td>\n",
              "      <td>4.000016e-02</td>\n",
              "    </tr>\n",
              "  </tbody>\n",
              "</table>\n",
              "</div>"
            ],
            "text/plain": [
              "     v1  V(n001)  V(n002)  V(n003)       V(n004)\n",
              "0  0.00      3.3      3.3     0.00  1.651250e-07\n",
              "1  0.01      3.3      3.3     0.01  1.000016e-02\n",
              "2  0.02      3.3      3.3     0.02  2.000016e-02\n",
              "3  0.03      3.3      3.3     0.03  3.000016e-02\n",
              "4  0.04      3.3      3.3     0.04  4.000016e-02"
            ]
          },
          "execution_count": 4,
          "metadata": {},
          "output_type": "execute_result"
        }
      ],
      "source": [
        "df.head()"
      ]
    },
    {
      "cell_type": "code",
      "execution_count": 5,
      "metadata": {
        "id": "A3NPANACg2Ws"
      },
      "outputs": [],
      "source": [
        "v1 = df.v1\n",
        "vt = df['V(n003)']\n",
        "vb = df['V(n004)']\n",
        "vc = df['V(n002)']\n",
        "vs = df['V(n001)']\n",
        "\n",
        "Rb = 50e3\n",
        "Rc = 5e3"
      ]
    },
    {
      "cell_type": "code",
      "execution_count": 6,
      "metadata": {
        "colab": {
          "base_uri": "https://localhost:8080/",
          "height": 313
        },
        "id": "CSzOW2Pghc0x",
        "outputId": "c88fce09-56b7-40e7-c0d8-c963200c75c6"
      },
      "outputs": [
        {
          "data": {
            "text/plain": [
              "<matplotlib.legend.Legend at 0x1edb41b6c40>"
            ]
          },
          "execution_count": 6,
          "metadata": {},
          "output_type": "execute_result"
        },
        {
          "data": {
            "image/png": "[encoded data removed]",
            "text/plain": [
              "<Figure size 432x288 with 1 Axes>"
            ]
          },
          "metadata": {
            "needs_background": "light"
          },
          "output_type": "display_data"
        }
      ],
      "source": [
        "plt.plot(v1, vt, label='v_drive')\n",
        "plt.plot(v1, vb, label='base')\n",
        "plt.plot(v1, vc, label='collector')\n",
        "plt.grid()\n",
        "plt.title('Voltage Check')\n",
        "plt.xlabel('V1 drive) (V)')\n",
        "plt.ylabel('Test points (V)')\n",
        "plt.legend()"
      ]
    },
    {
      "cell_type": "code",
      "execution_count": 7,
      "metadata": {
        "id": "g-S-ve_9jiUk"
      },
      "outputs": [],
      "source": [
        "Ic = (vs - vc) / Rc\n",
        "Ib = (vt - vb) / Rb"
      ]
    },
    {
      "cell_type": "code",
      "execution_count": 8,
      "metadata": {
        "colab": {
          "base_uri": "https://localhost:8080/",
          "height": 296
        },
        "id": "aRlJtPbnjVv0",
        "outputId": "23b8c569-9564-4f92-989f-a239094a8e72"
      },
      "outputs": [
        {
          "data": {
            "text/plain": [
              "[<matplotlib.lines.Line2D at 0x1edb4363310>]"
            ]
          },
          "execution_count": 8,
          "metadata": {},
          "output_type": "execute_result"
        },
        {
          "data": {
            "image/png": "[encoded data removed]",
            "text/plain": [
              "<Figure size 432x288 with 1 Axes>"
            ]
          },
          "metadata": {
            "needs_background": "light"
          },
          "output_type": "display_data"
        }
      ],
      "source": [
        "plt.plot(Ib, Ic, 'b.')"
      ]
    },
    {
      "cell_type": "code",
      "execution_count": 10,
      "metadata": {
        "id": "QDEd9WQrjBBn"
      },
      "outputs": [],
      "source": [
        "interesting = (df.v1 > 0.55) & (df.v1 < .75)\n",
        "v1 = df.v1[interesting]\n",
        "vt = df['V(n003)'][interesting]\n",
        "vb = df['V(n004)'][interesting]\n",
        "vc = df['V(n002)'][interesting]\n",
        "vs = df['V(n001)'][interesting]\n",
        "\n",
        "Rb = 50e3\n",
        "Rc = 5e3"
      ]
    },
    {
      "cell_type": "code",
      "execution_count": 11,
      "metadata": {
        "colab": {
          "base_uri": "https://localhost:8080/",
          "height": 313
        },
        "id": "wvPSWeKGjEq1",
        "outputId": "3db5f266-57e3-43a7-d627-ae416c4343e0"
      },
      "outputs": [
        {
          "data": {
            "text/plain": [
              "<matplotlib.legend.Legend at 0x1edb437a0d0>"
            ]
          },
          "execution_count": 11,
          "metadata": {},
          "output_type": "execute_result"
        },
        {
          "data": {
            "image/png": "[encoded data removed]",
            "text/plain": [
              "<Figure size 432x288 with 1 Axes>"
            ]
          },
          "metadata": {
            "needs_background": "light"
          },
          "output_type": "display_data"
        }
      ],
      "source": [
        "plt.plot(v1, vt, label='v_drive')\n",
        "plt.plot(v1, vb, label='base')\n",
        "plt.plot(v1, vc, label='collector')\n",
        "plt.grid()\n",
        "plt.title('Voltage Check')\n",
        "plt.xlabel('V1 drive) (V)')\n",
        "plt.ylabel('Test points (V)')\n",
        "plt.legend()"
      ]
    },
    {
      "cell_type": "code",
      "execution_count": 12,
      "metadata": {
        "id": "jCLz6A8DhjVa"
      },
      "outputs": [],
      "source": [
        "Ic = (vs - vc) / Rc\n",
        "Ib = (vt - vb) / Rb"
      ]
    },
    {
      "cell_type": "code",
      "execution_count": 13,
      "metadata": {
        "colab": {
          "base_uri": "https://localhost:8080/",
          "height": 296
        },
        "id": "stD2wJM3iz87",
        "outputId": "b8d1685d-1c17-4b8c-e4aa-06909f5cd53f"
      },
      "outputs": [
        {
          "data": {
            "text/plain": [
              "[<matplotlib.lines.Line2D at 0x1edb443cc10>]"
            ]
          },
          "execution_count": 13,
          "metadata": {},
          "output_type": "execute_result"
        },
        {
          "data": {
            "image/png": "[encoded data removed]",
            "text/plain": [
              "<Figure size 432x288 with 1 Axes>"
            ]
          },
          "metadata": {
            "needs_background": "light"
          },
          "output_type": "display_data"
        }
      ],
      "source": [
        "plt.plot(Ib, Ic, 'b.')"
      ]
    }
  ],
  "metadata": {
    "colab": {
      "name": "Transistor Interpretation",
      "provenance": []
    },
    "kernelspec": {
      "display_name": "Python 3.8.5 ('base')",
      "language": "python",
      "name": "python3"
    },
    "language_info": {
      "codemirror_mode": {
        "name": "ipython",
        "version": 3
      },
      "file_extension": ".py",
      "mimetype": "text/x-python",
      "name": "python",
      "nbconvert_exporter": "python",
      "pygments_lexer": "ipython3",
      "version": "3.8.5"
    },
    "vscode": {
      "interpreter": {
        "hash": "bc2175ea9d7bd29f64b560c9c614a85a012f9338b337e802e13f48fc00a33bf4"
      }
    }
  },
  "nbformat": 4,
  "nbformat_minor": 0
}
